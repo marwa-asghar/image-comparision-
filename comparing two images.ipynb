{
 "cells": [
  {
   "cell_type": "code",
   "execution_count": 2,
   "metadata": {},
   "outputs": [
    {
     "name": "stdout",
     "output_type": "stream",
     "text": [
      "Put the title of original image inside img directory: apple.jpg\n",
      "Put the title of tested image inside img directory: apple-r.jpg\n",
      "\n",
      "Checking...\n",
      "\n",
      "Image size is same\n",
      "...\n",
      "Image rotation is different\n",
      "...\n",
      "Image is different\n"
     ]
    }
   ],
   "source": [
    "import cv2\n",
    "import time\n",
    "\n",
    "# My added function to make the program more better\n",
    "\n",
    "\n",
    "def reverse(tuples):\n",
    "    new_tup = tuples[::-1]\n",
    "    return new_tup\n",
    "\n",
    "\n",
    "def pause():\n",
    "    print(\"...\")\n",
    "    return time.sleep(1)\n",
    "\n",
    "\n",
    "# Askikng for input\n",
    "orign = input(\"Put the title of original image inside img directory: \")\n",
    "check = input(\"Put the title of tested image inside img directory: \")\n",
    "\n",
    "# Store the image into variable\n",
    "original = cv2.imread(f\"{orign}\")\n",
    "duplicate = cv2.imread(f\"{check}\")\n",
    "\n",
    "# Store the image shape into variable\n",
    "ori_shape = original.shape[:2]\n",
    "dup_shape = duplicate.shape[:2]\n",
    "\n",
    "# Store the rotation for the duplicate\n",
    "rot_shape = reverse(dup_shape)\n",
    "\n",
    "# Display the shape of the image\n",
    "# print(original.shape)\n",
    "\n",
    "print(\"\\nChecking...\\n\")\n",
    "\n",
    "# TEST 1: Based on shape of image\n",
    "if ori_shape == dup_shape or ori_shape == rot_shape:\n",
    "    print(\"Image size is same\")\n",
    "    pause()\n",
    "\n",
    "    if ori_shape == dup_shape:\n",
    "        print(\"Checking the color element\")\n",
    "        # Extract the difference of color element between two image\n",
    "        difference = cv2.subtract(original, duplicate)\n",
    "        b, g, r = cv2.split(difference)\n",
    "\n",
    "        # TEST 2: Based on color of image\n",
    "        if cv2.countNonZero(b) == 0 and cv2.countNonZero(g) == 0 and cv2.countNonZero(r) == 0:\n",
    "            pause()\n",
    "            print(\"The color is equal\")\n",
    "            pause()\n",
    "            print(\"The image is identic\")\n",
    "#             exit()\n",
    "        else:\n",
    "            pause()\n",
    "            print('The color of image is different')\n",
    "            cv2.imshow('Difference', difference)\n",
    "            \n",
    "            pause()\n",
    "            print(\"Image is different\")\n",
    "        \n",
    "    else:\n",
    "        print(\"Image rotation is different\")\n",
    "        cv2.imshow('Duplicate', duplicate)\n",
    "\n",
    "        pause()\n",
    "        print(\"Image is different\")\n",
    "else:\n",
    "    print(\"Image size is different\")\n",
    "    cv2.imshow(\"Duplicate\",  duplicate)\n",
    "\n",
    "\n",
    "cv2.waitKey(0)\n",
    "cv2.destroyAllWindows()"
   ]
  },
  {
   "cell_type": "code",
   "execution_count": null,
   "metadata": {},
   "outputs": [],
   "source": []
  },
  {
   "cell_type": "code",
   "execution_count": null,
   "metadata": {},
   "outputs": [],
   "source": []
  }
 ],
 "metadata": {
  "kernelspec": {
   "display_name": "Python 3",
   "language": "python",
   "name": "python3"
  },
  "language_info": {
   "codemirror_mode": {
    "name": "ipython",
    "version": 3
   },
   "file_extension": ".py",
   "mimetype": "text/x-python",
   "name": "python",
   "nbconvert_exporter": "python",
   "pygments_lexer": "ipython3",
   "version": "3.8.5"
  }
 },
 "nbformat": 4,
 "nbformat_minor": 4
}
